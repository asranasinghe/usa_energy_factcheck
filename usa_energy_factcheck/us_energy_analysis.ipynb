{
 "cells": [
  {
   "cell_type": "markdown",
   "metadata": {},
   "source": []
  },
  {
   "cell_type": "code",
   "execution_count": 1,
   "metadata": {},
   "outputs": [],
   "source": [
    "import pandas as pd\n",
    "import numpy as np\n",
    "import os\n",
    "import matplotlib as plt"
   ]
  },
  {
   "cell_type": "markdown",
   "metadata": {},
   "source": [
    "#### **LOAD + PREP DATA**"
   ]
  },
  {
   "cell_type": "code",
   "execution_count": 2,
   "metadata": {},
   "outputs": [],
   "source": [
    "def prep_data(df, filter_yy = 1990, annualize = 'y', drop_energy = None):\n",
    "\n",
    "    if drop_energy is not None:\n",
    "        df = df.loc[~df.Description.isin([drop_energy])]\n",
    "\n",
    "    df['month'] = df.YYYYMM % 100\n",
    "    df['year'] = (np.floor(df.YYYYMM / 100)).astype(int)\n",
    "\n",
    "    df = df.loc[df.year >= 1990]\n",
    "    df.Value = df.Value.astype('float')\n",
    "\n",
    "    if annualize == 'y':\n",
    "        df = df.loc[df.month == 13]\n",
    "        time_col = 'year'\n",
    "    else:\n",
    "        df = df.loc[df.month < 13]\n",
    "        time_col = 'YYYYMM'\n",
    "\n",
    "    df = df[[time_col, 'Description', 'Value']]\n",
    "    df = df.pivot(index=time_col, columns='Description', values='Value').reset_index()\n",
    "\n",
    "\n",
    "    return df\n"
   ]
  },
  {
   "cell_type": "code",
   "execution_count": 3,
   "metadata": {},
   "outputs": [
    {
     "name": "stdout",
     "output_type": "stream",
     "text": [
      "(34, 14)\n"
     ]
    },
    {
     "name": "stderr",
     "output_type": "stream",
     "text": [
      "/tmp/ipykernel_49864/2725860040.py:10: SettingWithCopyWarning: \n",
      "A value is trying to be set on a copy of a slice from a DataFrame.\n",
      "Try using .loc[row_indexer,col_indexer] = value instead\n",
      "\n",
      "See the caveats in the documentation: https://pandas.pydata.org/pandas-docs/stable/user_guide/indexing.html#returning-a-view-versus-a-copy\n",
      "  df.Value = df.Value.astype('float')\n"
     ]
    },
    {
     "data": {
      "text/html": [
       "<div>\n",
       "<style scoped>\n",
       "    .dataframe tbody tr th:only-of-type {\n",
       "        vertical-align: middle;\n",
       "    }\n",
       "\n",
       "    .dataframe tbody tr th {\n",
       "        vertical-align: top;\n",
       "    }\n",
       "\n",
       "    .dataframe thead th {\n",
       "        text-align: right;\n",
       "    }\n",
       "</style>\n",
       "<table border=\"1\" class=\"dataframe\">\n",
       "  <thead>\n",
       "    <tr style=\"text-align: right;\">\n",
       "      <th>Description</th>\n",
       "      <th>year</th>\n",
       "      <th>Biomass Energy Production</th>\n",
       "      <th>Coal Production</th>\n",
       "      <th>Crude Oil Production</th>\n",
       "      <th>Geothermal Energy Production</th>\n",
       "      <th>Hydroelectric Power Production</th>\n",
       "      <th>Natural Gas (Dry) Production</th>\n",
       "      <th>Natural Gas Plant Liquids Production</th>\n",
       "      <th>Nuclear Electric Power Production</th>\n",
       "      <th>Solar Energy Production</th>\n",
       "      <th>Total Fossil Fuels Production</th>\n",
       "      <th>Total Primary Energy Production</th>\n",
       "      <th>Total Renewable Energy Production</th>\n",
       "      <th>Wind Energy Production</th>\n",
       "    </tr>\n",
       "  </thead>\n",
       "  <tbody>\n",
       "    <tr>\n",
       "      <th>0</th>\n",
       "      <td>1990</td>\n",
       "      <td>2.735112</td>\n",
       "      <td>22.487548</td>\n",
       "      <td>15.571185</td>\n",
       "      <td>0.062862</td>\n",
       "      <td>0.999258</td>\n",
       "      <td>18.326155</td>\n",
       "      <td>2.138298</td>\n",
       "      <td>6.104350</td>\n",
       "      <td>0.055962</td>\n",
       "      <td>58.523186</td>\n",
       "      <td>68.490245</td>\n",
       "      <td>3.862708</td>\n",
       "      <td>0.009515</td>\n",
       "    </tr>\n",
       "    <tr>\n",
       "      <th>1</th>\n",
       "      <td>1991</td>\n",
       "      <td>2.781797</td>\n",
       "      <td>21.636424</td>\n",
       "      <td>15.700826</td>\n",
       "      <td>0.065478</td>\n",
       "      <td>0.986048</td>\n",
       "      <td>18.228736</td>\n",
       "      <td>2.265161</td>\n",
       "      <td>6.422132</td>\n",
       "      <td>0.058040</td>\n",
       "      <td>57.831148</td>\n",
       "      <td>68.154712</td>\n",
       "      <td>3.901431</td>\n",
       "      <td>0.010069</td>\n",
       "    </tr>\n",
       "    <tr>\n",
       "      <th>2</th>\n",
       "      <td>1992</td>\n",
       "      <td>2.931678</td>\n",
       "      <td>21.694132</td>\n",
       "      <td>15.222863</td>\n",
       "      <td>0.066863</td>\n",
       "      <td>0.863536</td>\n",
       "      <td>18.375100</td>\n",
       "      <td>2.322585</td>\n",
       "      <td>6.479206</td>\n",
       "      <td>0.059819</td>\n",
       "      <td>57.614681</td>\n",
       "      <td>68.025635</td>\n",
       "      <td>3.931748</td>\n",
       "      <td>0.009852</td>\n",
       "    </tr>\n",
       "    <tr>\n",
       "      <th>3</th>\n",
       "      <td>1993</td>\n",
       "      <td>2.908446</td>\n",
       "      <td>20.335654</td>\n",
       "      <td>14.494390</td>\n",
       "      <td>0.069883</td>\n",
       "      <td>0.957046</td>\n",
       "      <td>18.584037</td>\n",
       "      <td>2.366190</td>\n",
       "      <td>6.410499</td>\n",
       "      <td>0.061682</td>\n",
       "      <td>55.780270</td>\n",
       "      <td>66.198081</td>\n",
       "      <td>4.007312</td>\n",
       "      <td>0.010256</td>\n",
       "    </tr>\n",
       "    <tr>\n",
       "      <th>4</th>\n",
       "      <td>1994</td>\n",
       "      <td>3.027534</td>\n",
       "      <td>22.202083</td>\n",
       "      <td>14.102563</td>\n",
       "      <td>0.066207</td>\n",
       "      <td>0.887549</td>\n",
       "      <td>19.348013</td>\n",
       "      <td>2.349386</td>\n",
       "      <td>6.693877</td>\n",
       "      <td>0.063410</td>\n",
       "      <td>58.002045</td>\n",
       "      <td>68.752384</td>\n",
       "      <td>4.056461</td>\n",
       "      <td>0.011762</td>\n",
       "    </tr>\n",
       "  </tbody>\n",
       "</table>\n",
       "</div>"
      ],
      "text/plain": [
       "Description  year  Biomass Energy Production  Coal Production  \\\n",
       "0            1990                   2.735112        22.487548   \n",
       "1            1991                   2.781797        21.636424   \n",
       "2            1992                   2.931678        21.694132   \n",
       "3            1993                   2.908446        20.335654   \n",
       "4            1994                   3.027534        22.202083   \n",
       "\n",
       "Description  Crude Oil Production  Geothermal Energy Production  \\\n",
       "0                       15.571185                      0.062862   \n",
       "1                       15.700826                      0.065478   \n",
       "2                       15.222863                      0.066863   \n",
       "3                       14.494390                      0.069883   \n",
       "4                       14.102563                      0.066207   \n",
       "\n",
       "Description  Hydroelectric Power Production  Natural Gas (Dry) Production  \\\n",
       "0                                  0.999258                     18.326155   \n",
       "1                                  0.986048                     18.228736   \n",
       "2                                  0.863536                     18.375100   \n",
       "3                                  0.957046                     18.584037   \n",
       "4                                  0.887549                     19.348013   \n",
       "\n",
       "Description  Natural Gas Plant Liquids Production  \\\n",
       "0                                        2.138298   \n",
       "1                                        2.265161   \n",
       "2                                        2.322585   \n",
       "3                                        2.366190   \n",
       "4                                        2.349386   \n",
       "\n",
       "Description  Nuclear Electric Power Production  Solar Energy Production  \\\n",
       "0                                     6.104350                 0.055962   \n",
       "1                                     6.422132                 0.058040   \n",
       "2                                     6.479206                 0.059819   \n",
       "3                                     6.410499                 0.061682   \n",
       "4                                     6.693877                 0.063410   \n",
       "\n",
       "Description  Total Fossil Fuels Production  Total Primary Energy Production  \\\n",
       "0                                58.523186                        68.490245   \n",
       "1                                57.831148                        68.154712   \n",
       "2                                57.614681                        68.025635   \n",
       "3                                55.780270                        66.198081   \n",
       "4                                58.002045                        68.752384   \n",
       "\n",
       "Description  Total Renewable Energy Production  Wind Energy Production  \n",
       "0                                     3.862708                0.009515  \n",
       "1                                     3.901431                0.010069  \n",
       "2                                     3.931748                0.009852  \n",
       "3                                     4.007312                0.010256  \n",
       "4                                     4.056461                0.011762  "
      ]
     },
     "execution_count": 3,
     "metadata": {},
     "output_type": "execute_result"
    }
   ],
   "source": [
    "production = pd.read_csv('data/MER_T01_02 (Run Date 8.15.24).csv')\n",
    "production = prep_data(production)\n",
    "\n",
    "print(production.shape)\n",
    "#print(production.dtypes)\n",
    "production.head()\n"
   ]
  },
  {
   "cell_type": "code",
   "execution_count": 4,
   "metadata": {},
   "outputs": [
    {
     "name": "stdout",
     "output_type": "stream",
     "text": [
      "(34, 13)\n"
     ]
    },
    {
     "name": "stderr",
     "output_type": "stream",
     "text": [
      "/tmp/ipykernel_49864/2725860040.py:10: SettingWithCopyWarning: \n",
      "A value is trying to be set on a copy of a slice from a DataFrame.\n",
      "Try using .loc[row_indexer,col_indexer] = value instead\n",
      "\n",
      "See the caveats in the documentation: https://pandas.pydata.org/pandas-docs/stable/user_guide/indexing.html#returning-a-view-versus-a-copy\n",
      "  df.Value = df.Value.astype('float')\n"
     ]
    },
    {
     "data": {
      "text/html": [
       "<div>\n",
       "<style scoped>\n",
       "    .dataframe tbody tr th:only-of-type {\n",
       "        vertical-align: middle;\n",
       "    }\n",
       "\n",
       "    .dataframe tbody tr th {\n",
       "        vertical-align: top;\n",
       "    }\n",
       "\n",
       "    .dataframe thead th {\n",
       "        text-align: right;\n",
       "    }\n",
       "</style>\n",
       "<table border=\"1\" class=\"dataframe\">\n",
       "  <thead>\n",
       "    <tr style=\"text-align: right;\">\n",
       "      <th>Description</th>\n",
       "      <th>year</th>\n",
       "      <th>Biomass Energy Consumption</th>\n",
       "      <th>Coal Consumption</th>\n",
       "      <th>Geothermal Energy Consumption</th>\n",
       "      <th>Hydroelectric Power Consumption</th>\n",
       "      <th>Natural Gas Consumption (Excluding Supplemental Gaseous Fuels)</th>\n",
       "      <th>Nuclear Electric Power Consumption</th>\n",
       "      <th>Petroleum Consumption (Excluding Biofuels)</th>\n",
       "      <th>Solar Energy Consumption</th>\n",
       "      <th>Total Fossil Fuels Consumption</th>\n",
       "      <th>Total Primary Energy Consumption</th>\n",
       "      <th>Total Renewable Energy Consumption</th>\n",
       "      <th>Wind Energy Consumption</th>\n",
       "    </tr>\n",
       "  </thead>\n",
       "  <tbody>\n",
       "    <tr>\n",
       "      <th>0</th>\n",
       "      <td>1990</td>\n",
       "      <td>2.735112</td>\n",
       "      <td>19.172635</td>\n",
       "      <td>0.062862</td>\n",
       "      <td>0.999258</td>\n",
       "      <td>19.603267</td>\n",
       "      <td>6.104350</td>\n",
       "      <td>33.499918</td>\n",
       "      <td>0.055962</td>\n",
       "      <td>72.280598</td>\n",
       "      <td>82.255545</td>\n",
       "      <td>3.862708</td>\n",
       "      <td>0.009515</td>\n",
       "    </tr>\n",
       "    <tr>\n",
       "      <th>1</th>\n",
       "      <td>1991</td>\n",
       "      <td>2.781797</td>\n",
       "      <td>18.991670</td>\n",
       "      <td>0.065478</td>\n",
       "      <td>0.986048</td>\n",
       "      <td>20.032958</td>\n",
       "      <td>6.422132</td>\n",
       "      <td>32.789101</td>\n",
       "      <td>0.058040</td>\n",
       "      <td>71.823417</td>\n",
       "      <td>82.213947</td>\n",
       "      <td>3.901431</td>\n",
       "      <td>0.010069</td>\n",
       "    </tr>\n",
       "    <tr>\n",
       "      <th>2</th>\n",
       "      <td>1992</td>\n",
       "      <td>2.931678</td>\n",
       "      <td>19.122471</td>\n",
       "      <td>0.066863</td>\n",
       "      <td>0.863536</td>\n",
       "      <td>20.713632</td>\n",
       "      <td>6.479206</td>\n",
       "      <td>33.467661</td>\n",
       "      <td>0.059819</td>\n",
       "      <td>73.338389</td>\n",
       "      <td>83.836077</td>\n",
       "      <td>3.931748</td>\n",
       "      <td>0.009852</td>\n",
       "    </tr>\n",
       "    <tr>\n",
       "      <th>3</th>\n",
       "      <td>1993</td>\n",
       "      <td>2.908172</td>\n",
       "      <td>19.835148</td>\n",
       "      <td>0.069883</td>\n",
       "      <td>0.957046</td>\n",
       "      <td>21.229000</td>\n",
       "      <td>6.410499</td>\n",
       "      <td>33.587587</td>\n",
       "      <td>0.061682</td>\n",
       "      <td>74.678844</td>\n",
       "      <td>85.191290</td>\n",
       "      <td>4.007038</td>\n",
       "      <td>0.010256</td>\n",
       "    </tr>\n",
       "    <tr>\n",
       "      <th>4</th>\n",
       "      <td>1994</td>\n",
       "      <td>3.027534</td>\n",
       "      <td>19.909463</td>\n",
       "      <td>0.066207</td>\n",
       "      <td>0.887549</td>\n",
       "      <td>21.728067</td>\n",
       "      <td>6.693877</td>\n",
       "      <td>34.453420</td>\n",
       "      <td>0.063410</td>\n",
       "      <td>76.149278</td>\n",
       "      <td>87.052554</td>\n",
       "      <td>4.056461</td>\n",
       "      <td>0.011762</td>\n",
       "    </tr>\n",
       "  </tbody>\n",
       "</table>\n",
       "</div>"
      ],
      "text/plain": [
       "Description  year  Biomass Energy Consumption  Coal Consumption  \\\n",
       "0            1990                    2.735112         19.172635   \n",
       "1            1991                    2.781797         18.991670   \n",
       "2            1992                    2.931678         19.122471   \n",
       "3            1993                    2.908172         19.835148   \n",
       "4            1994                    3.027534         19.909463   \n",
       "\n",
       "Description  Geothermal Energy Consumption  Hydroelectric Power Consumption  \\\n",
       "0                                 0.062862                         0.999258   \n",
       "1                                 0.065478                         0.986048   \n",
       "2                                 0.066863                         0.863536   \n",
       "3                                 0.069883                         0.957046   \n",
       "4                                 0.066207                         0.887549   \n",
       "\n",
       "Description  Natural Gas Consumption (Excluding Supplemental Gaseous Fuels)  \\\n",
       "0                                                    19.603267                \n",
       "1                                                    20.032958                \n",
       "2                                                    20.713632                \n",
       "3                                                    21.229000                \n",
       "4                                                    21.728067                \n",
       "\n",
       "Description  Nuclear Electric Power Consumption  \\\n",
       "0                                      6.104350   \n",
       "1                                      6.422132   \n",
       "2                                      6.479206   \n",
       "3                                      6.410499   \n",
       "4                                      6.693877   \n",
       "\n",
       "Description  Petroleum Consumption (Excluding Biofuels)  \\\n",
       "0                                             33.499918   \n",
       "1                                             32.789101   \n",
       "2                                             33.467661   \n",
       "3                                             33.587587   \n",
       "4                                             34.453420   \n",
       "\n",
       "Description  Solar Energy Consumption  Total Fossil Fuels Consumption  \\\n",
       "0                            0.055962                       72.280598   \n",
       "1                            0.058040                       71.823417   \n",
       "2                            0.059819                       73.338389   \n",
       "3                            0.061682                       74.678844   \n",
       "4                            0.063410                       76.149278   \n",
       "\n",
       "Description  Total Primary Energy Consumption  \\\n",
       "0                                   82.255545   \n",
       "1                                   82.213947   \n",
       "2                                   83.836077   \n",
       "3                                   85.191290   \n",
       "4                                   87.052554   \n",
       "\n",
       "Description  Total Renewable Energy Consumption  Wind Energy Consumption  \n",
       "0                                      3.862708                 0.009515  \n",
       "1                                      3.901431                 0.010069  \n",
       "2                                      3.931748                 0.009852  \n",
       "3                                      4.007038                 0.010256  \n",
       "4                                      4.056461                 0.011762  "
      ]
     },
     "execution_count": 4,
     "metadata": {},
     "output_type": "execute_result"
    }
   ],
   "source": [
    "consumption = pd.read_csv('data/MER_T01_03 (Run Date 8.15.24).csv')\n",
    "consumption = prep_data(consumption)\n",
    "\n",
    "print(consumption.shape)\n",
    "#print(consumption.dtypes)\n",
    "consumption.head()"
   ]
  },
  {
   "cell_type": "code",
   "execution_count": 5,
   "metadata": {},
   "outputs": [
    {
     "name": "stdout",
     "output_type": "stream",
     "text": [
      "(34, 9)\n"
     ]
    },
    {
     "name": "stderr",
     "output_type": "stream",
     "text": [
      "/tmp/ipykernel_49864/2725860040.py:6: SettingWithCopyWarning: \n",
      "A value is trying to be set on a copy of a slice from a DataFrame.\n",
      "Try using .loc[row_indexer,col_indexer] = value instead\n",
      "\n",
      "See the caveats in the documentation: https://pandas.pydata.org/pandas-docs/stable/user_guide/indexing.html#returning-a-view-versus-a-copy\n",
      "  df['month'] = df.YYYYMM % 100\n",
      "/tmp/ipykernel_49864/2725860040.py:7: SettingWithCopyWarning: \n",
      "A value is trying to be set on a copy of a slice from a DataFrame.\n",
      "Try using .loc[row_indexer,col_indexer] = value instead\n",
      "\n",
      "See the caveats in the documentation: https://pandas.pydata.org/pandas-docs/stable/user_guide/indexing.html#returning-a-view-versus-a-copy\n",
      "  df['year'] = (np.floor(df.YYYYMM / 100)).astype(int)\n"
     ]
    },
    {
     "data": {
      "text/html": [
       "<div>\n",
       "<style scoped>\n",
       "    .dataframe tbody tr th:only-of-type {\n",
       "        vertical-align: middle;\n",
       "    }\n",
       "\n",
       "    .dataframe tbody tr th {\n",
       "        vertical-align: top;\n",
       "    }\n",
       "\n",
       "    .dataframe thead th {\n",
       "        text-align: right;\n",
       "    }\n",
       "</style>\n",
       "<table border=\"1\" class=\"dataframe\">\n",
       "  <thead>\n",
       "    <tr style=\"text-align: right;\">\n",
       "      <th></th>\n",
       "      <th>year</th>\n",
       "      <th>Coal Coke Net Exports</th>\n",
       "      <th>Coal Net Exports</th>\n",
       "      <th>Crude Oil Net Exports</th>\n",
       "      <th>Electricity Net Exports</th>\n",
       "      <th>Natural Gas Net Exports</th>\n",
       "      <th>Petroleum Products, Excluding Biofuels, Net Exports</th>\n",
       "      <th>Total Energy Net Exports</th>\n",
       "      <th>Total Petroleum, Excluding Biofuels, Net Exports</th>\n",
       "    </tr>\n",
       "  </thead>\n",
       "  <tbody>\n",
       "    <tr>\n",
       "      <th>0</th>\n",
       "      <td>1990</td>\n",
       "      <td>-0.004778</td>\n",
       "      <td>2.704789</td>\n",
       "      <td>-12.536341</td>\n",
       "      <td>-0.007888</td>\n",
       "      <td>-1.463541</td>\n",
       "      <td>-2.757016</td>\n",
       "      <td>-14.064775</td>\n",
       "      <td>-15.293357</td>\n",
       "    </tr>\n",
       "    <tr>\n",
       "      <th>1</th>\n",
       "      <td>1991</td>\n",
       "      <td>-0.009688</td>\n",
       "      <td>2.768925</td>\n",
       "      <td>-12.307610</td>\n",
       "      <td>-0.066965</td>\n",
       "      <td>-1.666051</td>\n",
       "      <td>-1.912466</td>\n",
       "      <td>-13.193856</td>\n",
       "      <td>-14.220075</td>\n",
       "    </tr>\n",
       "    <tr>\n",
       "      <th>2</th>\n",
       "      <td>1992</td>\n",
       "      <td>-0.034625</td>\n",
       "      <td>2.586857</td>\n",
       "      <td>-13.065066</td>\n",
       "      <td>-0.086733</td>\n",
       "      <td>-1.940841</td>\n",
       "      <td>-1.894854</td>\n",
       "      <td>-14.435263</td>\n",
       "      <td>-14.959920</td>\n",
       "    </tr>\n",
       "    <tr>\n",
       "      <th>3</th>\n",
       "      <td>1993</td>\n",
       "      <td>-0.027110</td>\n",
       "      <td>1.757942</td>\n",
       "      <td>-14.541589</td>\n",
       "      <td>-0.094910</td>\n",
       "      <td>-2.254691</td>\n",
       "      <td>-1.830459</td>\n",
       "      <td>-16.991662</td>\n",
       "      <td>-16.372048</td>\n",
       "    </tr>\n",
       "    <tr>\n",
       "      <th>4</th>\n",
       "      <td>1994</td>\n",
       "      <td>-0.058329</td>\n",
       "      <td>1.657055</td>\n",
       "      <td>-15.130611</td>\n",
       "      <td>-0.152937</td>\n",
       "      <td>-2.518047</td>\n",
       "      <td>-2.067552</td>\n",
       "      <td>-18.271388</td>\n",
       "      <td>-17.198162</td>\n",
       "    </tr>\n",
       "  </tbody>\n",
       "</table>\n",
       "</div>"
      ],
      "text/plain": [
       "   year  Coal Coke Net Exports  Coal Net Exports  Crude Oil Net Exports  \\\n",
       "0  1990              -0.004778          2.704789             -12.536341   \n",
       "1  1991              -0.009688          2.768925             -12.307610   \n",
       "2  1992              -0.034625          2.586857             -13.065066   \n",
       "3  1993              -0.027110          1.757942             -14.541589   \n",
       "4  1994              -0.058329          1.657055             -15.130611   \n",
       "\n",
       "   Electricity Net Exports  Natural Gas Net Exports  \\\n",
       "0                -0.007888                -1.463541   \n",
       "1                -0.066965                -1.666051   \n",
       "2                -0.086733                -1.940841   \n",
       "3                -0.094910                -2.254691   \n",
       "4                -0.152937                -2.518047   \n",
       "\n",
       "   Petroleum Products, Excluding Biofuels, Net Exports  \\\n",
       "0                                          -2.757016     \n",
       "1                                          -1.912466     \n",
       "2                                          -1.894854     \n",
       "3                                          -1.830459     \n",
       "4                                          -2.067552     \n",
       "\n",
       "   Total Energy Net Exports  Total Petroleum, Excluding Biofuels, Net Exports  \n",
       "0                -14.064775                                        -15.293357  \n",
       "1                -13.193856                                        -14.220075  \n",
       "2                -14.435263                                        -14.959920  \n",
       "3                -16.991662                                        -16.372048  \n",
       "4                -18.271388                                        -17.198162  "
      ]
     },
     "execution_count": 5,
     "metadata": {},
     "output_type": "execute_result"
    }
   ],
   "source": [
    "net_imports = pd.read_csv('data/MER_T01_04C (Run Date 8.15.24).csv')\n",
    "net_imports = prep_data(net_imports, drop_energy='Biomass Net Imports')\n",
    "\n",
    "# Reverse to get exports\n",
    "net_exports = net_imports\n",
    "net_exports.loc[:, ~net_exports.columns.isin(['Description', 'year'])] = -net_exports.loc[:, ~net_exports.columns.isin(['Description', 'year'])]\n",
    "net_exports.columns = [c.replace(\"Imports\", \"Exports\") for c in list(net_exports.columns)]\n",
    "\n",
    "print(net_exports.shape)\n",
    "#print(net_exports.dtypes)\n",
    "net_exports.head()"
   ]
  },
  {
   "cell_type": "markdown",
   "metadata": {},
   "source": [
    "#### **ANALYSIS**"
   ]
  },
  {
   "cell_type": "markdown",
   "metadata": {},
   "source": [
    "##### Check YOY Change in Net Imports of Petroleum (Excluding Biofuels)"
   ]
  },
  {
   "cell_type": "code",
   "execution_count": 6,
   "metadata": {},
   "outputs": [
    {
     "data": {
      "text/html": [
       "<div>\n",
       "<style scoped>\n",
       "    .dataframe tbody tr th:only-of-type {\n",
       "        vertical-align: middle;\n",
       "    }\n",
       "\n",
       "    .dataframe tbody tr th {\n",
       "        vertical-align: top;\n",
       "    }\n",
       "\n",
       "    .dataframe thead th {\n",
       "        text-align: right;\n",
       "    }\n",
       "</style>\n",
       "<table border=\"1\" class=\"dataframe\">\n",
       "  <thead>\n",
       "    <tr style=\"text-align: right;\">\n",
       "      <th></th>\n",
       "      <th>year</th>\n",
       "      <th>Total Petroleum, Excluding Biofuels, Net Exports</th>\n",
       "    </tr>\n",
       "  </thead>\n",
       "  <tbody>\n",
       "    <tr>\n",
       "      <th>26</th>\n",
       "      <td>2016</td>\n",
       "      <td>-11.710375</td>\n",
       "    </tr>\n",
       "    <tr>\n",
       "      <th>27</th>\n",
       "      <td>2017</td>\n",
       "      <td>-9.766005</td>\n",
       "    </tr>\n",
       "    <tr>\n",
       "      <th>28</th>\n",
       "      <td>2018</td>\n",
       "      <td>-7.066035</td>\n",
       "    </tr>\n",
       "    <tr>\n",
       "      <th>29</th>\n",
       "      <td>2019</td>\n",
       "      <td>-3.502390</td>\n",
       "    </tr>\n",
       "    <tr>\n",
       "      <th>30</th>\n",
       "      <td>2020</td>\n",
       "      <td>-0.872067</td>\n",
       "    </tr>\n",
       "    <tr>\n",
       "      <th>31</th>\n",
       "      <td>2021</td>\n",
       "      <td>-2.247938</td>\n",
       "    </tr>\n",
       "    <tr>\n",
       "      <th>32</th>\n",
       "      <td>2022</td>\n",
       "      <td>-0.118115</td>\n",
       "    </tr>\n",
       "    <tr>\n",
       "      <th>33</th>\n",
       "      <td>2023</td>\n",
       "      <td>0.665793</td>\n",
       "    </tr>\n",
       "  </tbody>\n",
       "</table>\n",
       "</div>"
      ],
      "text/plain": [
       "    year  Total Petroleum, Excluding Biofuels, Net Exports\n",
       "26  2016                                        -11.710375\n",
       "27  2017                                         -9.766005\n",
       "28  2018                                         -7.066035\n",
       "29  2019                                         -3.502390\n",
       "30  2020                                         -0.872067\n",
       "31  2021                                         -2.247938\n",
       "32  2022                                         -0.118115\n",
       "33  2023                                          0.665793"
      ]
     },
     "execution_count": 6,
     "metadata": {},
     "output_type": "execute_result"
    }
   ],
   "source": [
    "net_exports[['year', 'Total Petroleum, Excluding Biofuels, Net Exports']].tail(8)"
   ]
  },
  {
   "cell_type": "code",
   "execution_count": 10,
   "metadata": {},
   "outputs": [
    {
     "data": {
      "text/plain": [
       "<Axes: xlabel='year'>"
      ]
     },
     "execution_count": 10,
     "metadata": {},
     "output_type": "execute_result"
    },
    {
     "data": {
      "image/png": "[encoded data removed]",
      "text/plain": [
       "<Figure size 432x288 with 1 Axes>"
      ]
     },
     "metadata": {
      "needs_background": "light"
     },
     "output_type": "display_data"
    }
   ],
   "source": [
    "net_exports.plot.bar(x='year', y='Total Petroleum, Excluding Biofuels, Net Exports')"
   ]
  },
  {
   "cell_type": "code",
   "execution_count": 27,
   "metadata": {},
   "outputs": [
    {
     "data": {
      "text/plain": [
       "<Axes: xlabel='year'>"
      ]
     },
     "execution_count": 27,
     "metadata": {},
     "output_type": "execute_result"
    },
    {
     "data": {
      "image/png": "[encoded data removed]",
      "text/plain": [
       "<Figure size 432x288 with 1 Axes>"
      ]
     },
     "metadata": {
      "needs_background": "light"
     },
     "output_type": "display_data"
    }
   ],
   "source": [
    "production.plot.bar(x='year', y='Total Renewable Energy Production')"
   ]
  },
  {
   "cell_type": "code",
   "execution_count": null,
   "metadata": {},
   "outputs": [
    {
     "data": {
      "text/plain": [
       "<Axes: xlabel='year'>"
      ]
     },
     "execution_count": 129,
     "metadata": {},
     "output_type": "execute_result"
    },
    {
     "data": {
      "image/png": "[encoded data removed]",
      "text/plain": [
       "<Figure size 432x288 with 1 Axes>"
      ]
     },
     "metadata": {
      "needs_background": "light"
     },
     "output_type": "display_data"
    }
   ],
   "source": [
    "production.set_index('year').plot()"
   ]
  },
  {
   "cell_type": "code",
   "execution_count": 8,
   "metadata": {},
   "outputs": [
    {
     "data": {
      "text/plain": [
       "<Axes: xlabel='year'>"
      ]
     },
     "execution_count": 8,
     "metadata": {},
     "output_type": "execute_result"
    },
    {
     "data": {
      "image/png": "[encoded data removed]",
      "text/plain": [
       "<Figure size 432x288 with 1 Axes>"
      ]
     },
     "metadata": {
      "needs_background": "light"
     },
     "output_type": "display_data"
    }
   ],
   "source": [
    "consumption.set_index('year').plot()"
   ]
  },
  {
   "cell_type": "code",
   "execution_count": 9,
   "metadata": {},
   "outputs": [
    {
     "data": {
      "text/plain": [
       "<Axes: xlabel='year'>"
      ]
     },
     "execution_count": 9,
     "metadata": {},
     "output_type": "execute_result"
    },
    {
     "data": {
      "image/png": "[encoded data removed]",
      "text/plain": [
       "<Figure size 432x288 with 1 Axes>"
      ]
     },
     "metadata": {
      "needs_background": "light"
     },
     "output_type": "display_data"
    }
   ],
   "source": [
    "consumption.plot.bar(x='year', y='Total Primary Energy Consumption')\n"
   ]
  },
  {
   "cell_type": "code",
   "execution_count": 21,
   "metadata": {},
   "outputs": [
    {
     "ename": "KeyError",
     "evalue": "\"None of [Float64Index([3.862708, 3.901431, 3.931748, 4.007312, 4.056461, 4.294583,\\n              4.479994, 4.466063, 4.174139, 4.202601, 4.093033, 3.513751,\\n              3.770941, 3.914186, 4.093471,  4.22016, 4.429647, 4.582116,\\n              5.084563, 5.309146,  5.94258, 6.404003,  6.18697, 6.560783,\\n              6.835589, 6.845927, 7.188417, 7.504595, 7.744195, 7.752818,\\n              7.465203,   7.8073, 8.307341, 8.426336],\\n             dtype='float64', name='Description')] are in the [columns]\"",
     "output_type": "error",
     "traceback": [
      "\u001b[0;31m---------------------------------------------------------------------------\u001b[0m",
      "\u001b[0;31mKeyError\u001b[0m                                  Traceback (most recent call last)",
      "\u001b[1;32m/Users/sebastianranasinghe/Documents/Research/usa_energy_factcheck/usa_energy_factcheck/us_energy_analysis.ipynb Cell 16'\u001b[0m in \u001b[0;36m<cell line: 1>\u001b[0;34m()\u001b[0m\n\u001b[0;32m----> <a href='vscode-notebook-cell:/Users/sebastianranasinghe/Documents/Research/usa_energy_factcheck/usa_energy_factcheck/us_energy_analysis.ipynb#ch0000015?line=0'>1</a>\u001b[0m production[\u001b[39m20\u001b[39;49m:]\u001b[39m.\u001b[39;49mplot\u001b[39m.\u001b[39;49mbar(x\u001b[39m=\u001b[39;49m\u001b[39m'\u001b[39;49m\u001b[39myear\u001b[39;49m\u001b[39m'\u001b[39;49m, y\u001b[39m=\u001b[39;49mproduction[\u001b[39m'\u001b[39;49m\u001b[39mTotal Renewable Energy Production\u001b[39;49m\u001b[39m'\u001b[39;49m])\n",
      "File \u001b[0;32m~/.pyenv/versions/3.9.4/lib/python3.9/site-packages/pandas/plotting/_core.py:1131\u001b[0m, in \u001b[0;36mPlotAccessor.bar\u001b[0;34m(self, x, y, **kwargs)\u001b[0m\n\u001b[1;32m   1043\u001b[0m \u001b[39m@Appender\u001b[39m(\n\u001b[1;32m   1044\u001b[0m     \u001b[39m\"\"\"\u001b[39;00m\n\u001b[1;32m   1045\u001b[0m \u001b[39m    See Also\u001b[39;00m\n\u001b[0;32m   (...)\u001b[0m\n\u001b[1;32m   1120\u001b[0m \u001b[39m@Appender\u001b[39m(_bar_or_line_doc)\n\u001b[1;32m   1121\u001b[0m \u001b[39mdef\u001b[39;00m \u001b[39mbar\u001b[39m(\u001b[39mself\u001b[39m, x\u001b[39m=\u001b[39m\u001b[39mNone\u001b[39;00m, y\u001b[39m=\u001b[39m\u001b[39mNone\u001b[39;00m, \u001b[39m*\u001b[39m\u001b[39m*\u001b[39mkwargs):\n\u001b[1;32m   1122\u001b[0m     \u001b[39m\"\"\"\u001b[39;00m\n\u001b[1;32m   1123\u001b[0m \u001b[39m    Vertical bar plot.\u001b[39;00m\n\u001b[1;32m   1124\u001b[0m \n\u001b[0;32m   (...)\u001b[0m\n\u001b[1;32m   1129\u001b[0m \u001b[39m    other axis represents a measured value.\u001b[39;00m\n\u001b[1;32m   1130\u001b[0m \u001b[39m    \"\"\"\u001b[39;00m\n\u001b[0;32m-> 1131\u001b[0m     \u001b[39mreturn\u001b[39;00m \u001b[39mself\u001b[39;49m(kind\u001b[39m=\u001b[39;49m\u001b[39m\"\u001b[39;49m\u001b[39mbar\u001b[39;49m\u001b[39m\"\u001b[39;49m, x\u001b[39m=\u001b[39;49mx, y\u001b[39m=\u001b[39;49my, \u001b[39m*\u001b[39;49m\u001b[39m*\u001b[39;49mkwargs)\n",
      "File \u001b[0;32m~/.pyenv/versions/3.9.4/lib/python3.9/site-packages/pandas/plotting/_core.py:958\u001b[0m, in \u001b[0;36mPlotAccessor.__call__\u001b[0;34m(self, *args, **kwargs)\u001b[0m\n\u001b[1;32m    955\u001b[0m             \u001b[39mpass\u001b[39;00m\n\u001b[1;32m    957\u001b[0m \u001b[39m# don't overwrite\u001b[39;00m\n\u001b[0;32m--> 958\u001b[0m data \u001b[39m=\u001b[39m data[y]\u001b[39m.\u001b[39mcopy()\n\u001b[1;32m    960\u001b[0m \u001b[39mif\u001b[39;00m \u001b[39misinstance\u001b[39m(data, ABCSeries):\n\u001b[1;32m    961\u001b[0m     label_name \u001b[39m=\u001b[39m label_kw \u001b[39mor\u001b[39;00m y\n",
      "File \u001b[0;32m~/.pyenv/versions/3.9.4/lib/python3.9/site-packages/pandas/core/frame.py:3511\u001b[0m, in \u001b[0;36mDataFrame.__getitem__\u001b[0;34m(self, key)\u001b[0m\n\u001b[1;32m   3509\u001b[0m     \u001b[39mif\u001b[39;00m is_iterator(key):\n\u001b[1;32m   3510\u001b[0m         key \u001b[39m=\u001b[39m \u001b[39mlist\u001b[39m(key)\n\u001b[0;32m-> 3511\u001b[0m     indexer \u001b[39m=\u001b[39m \u001b[39mself\u001b[39;49m\u001b[39m.\u001b[39;49mcolumns\u001b[39m.\u001b[39;49m_get_indexer_strict(key, \u001b[39m\"\u001b[39;49m\u001b[39mcolumns\u001b[39;49m\u001b[39m\"\u001b[39;49m)[\u001b[39m1\u001b[39m]\n\u001b[1;32m   3513\u001b[0m \u001b[39m# take() does not accept boolean indexers\u001b[39;00m\n\u001b[1;32m   3514\u001b[0m \u001b[39mif\u001b[39;00m \u001b[39mgetattr\u001b[39m(indexer, \u001b[39m\"\u001b[39m\u001b[39mdtype\u001b[39m\u001b[39m\"\u001b[39m, \u001b[39mNone\u001b[39;00m) \u001b[39m==\u001b[39m \u001b[39mbool\u001b[39m:\n",
      "File \u001b[0;32m~/.pyenv/versions/3.9.4/lib/python3.9/site-packages/pandas/core/indexes/base.py:5782\u001b[0m, in \u001b[0;36mIndex._get_indexer_strict\u001b[0;34m(self, key, axis_name)\u001b[0m\n\u001b[1;32m   5779\u001b[0m \u001b[39melse\u001b[39;00m:\n\u001b[1;32m   5780\u001b[0m     keyarr, indexer, new_indexer \u001b[39m=\u001b[39m \u001b[39mself\u001b[39m\u001b[39m.\u001b[39m_reindex_non_unique(keyarr)\n\u001b[0;32m-> 5782\u001b[0m \u001b[39mself\u001b[39;49m\u001b[39m.\u001b[39;49m_raise_if_missing(keyarr, indexer, axis_name)\n\u001b[1;32m   5784\u001b[0m keyarr \u001b[39m=\u001b[39m \u001b[39mself\u001b[39m\u001b[39m.\u001b[39mtake(indexer)\n\u001b[1;32m   5785\u001b[0m \u001b[39mif\u001b[39;00m \u001b[39misinstance\u001b[39m(key, Index):\n\u001b[1;32m   5786\u001b[0m     \u001b[39m# GH 42790 - Preserve name from an Index\u001b[39;00m\n",
      "File \u001b[0;32m~/.pyenv/versions/3.9.4/lib/python3.9/site-packages/pandas/core/indexes/base.py:5842\u001b[0m, in \u001b[0;36mIndex._raise_if_missing\u001b[0;34m(self, key, indexer, axis_name)\u001b[0m\n\u001b[1;32m   5840\u001b[0m     \u001b[39mif\u001b[39;00m use_interval_msg:\n\u001b[1;32m   5841\u001b[0m         key \u001b[39m=\u001b[39m \u001b[39mlist\u001b[39m(key)\n\u001b[0;32m-> 5842\u001b[0m     \u001b[39mraise\u001b[39;00m \u001b[39mKeyError\u001b[39;00m(\u001b[39mf\u001b[39m\u001b[39m\"\u001b[39m\u001b[39mNone of [\u001b[39m\u001b[39m{\u001b[39;00mkey\u001b[39m}\u001b[39;00m\u001b[39m] are in the [\u001b[39m\u001b[39m{\u001b[39;00maxis_name\u001b[39m}\u001b[39;00m\u001b[39m]\u001b[39m\u001b[39m\"\u001b[39m)\n\u001b[1;32m   5844\u001b[0m not_found \u001b[39m=\u001b[39m \u001b[39mlist\u001b[39m(ensure_index(key)[missing_mask\u001b[39m.\u001b[39mnonzero()[\u001b[39m0\u001b[39m]]\u001b[39m.\u001b[39munique())\n\u001b[1;32m   5845\u001b[0m \u001b[39mraise\u001b[39;00m \u001b[39mKeyError\u001b[39;00m(\u001b[39mf\u001b[39m\u001b[39m\"\u001b[39m\u001b[39m{\u001b[39;00mnot_found\u001b[39m}\u001b[39;00m\u001b[39m not in index\u001b[39m\u001b[39m\"\u001b[39m)\n",
      "\u001b[0;31mKeyError\u001b[0m: \"None of [Float64Index([3.862708, 3.901431, 3.931748, 4.007312, 4.056461, 4.294583,\\n              4.479994, 4.466063, 4.174139, 4.202601, 4.093033, 3.513751,\\n              3.770941, 3.914186, 4.093471,  4.22016, 4.429647, 4.582116,\\n              5.084563, 5.309146,  5.94258, 6.404003,  6.18697, 6.560783,\\n              6.835589, 6.845927, 7.188417, 7.504595, 7.744195, 7.752818,\\n              7.465203,   7.8073, 8.307341, 8.426336],\\n             dtype='float64', name='Description')] are in the [columns]\""
     ]
    }
   ],
   "source": [
    "production[20:].plot.bar(x='year', y=production['Total Renewable Energy Production'])"
   ]
  },
  {
   "cell_type": "code",
   "execution_count": null,
   "metadata": {},
   "outputs": [],
   "source": []
  }
 ],
 "metadata": {
  "kernelspec": {
   "display_name": "Python 3.9.4 64-bit ('3.9.4')",
   "language": "python",
   "name": "python3"
  },
  "language_info": {
   "codemirror_mode": {
    "name": "ipython",
    "version": 3
   },
   "file_extension": ".py",
   "mimetype": "text/x-python",
   "name": "python",
   "nbconvert_exporter": "python",
   "pygments_lexer": "ipython3",
   "version": "3.9.4"
  },
  "orig_nbformat": 4,
  "vscode": {
   "interpreter": {
    "hash": "8c243c66734fe50b5ef8f11b68afc2d226a91d969c557ccbd39253ddac204ddc"
   }
  }
 },
 "nbformat": 4,
 "nbformat_minor": 2
}
